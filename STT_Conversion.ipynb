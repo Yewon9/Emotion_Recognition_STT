{
  "nbformat": 4,
  "nbformat_minor": 0,
  "metadata": {
    "colab": {
      "provenance": [],
      "authorship_tag": "ABX9TyN2FCodGwjfp30wijwQgqTm",
      "include_colab_link": true
    },
    "kernelspec": {
      "name": "python3",
      "display_name": "Python 3"
    },
    "language_info": {
      "name": "python"
    }
  },
  "cells": [
    {
      "cell_type": "markdown",
      "metadata": {
        "id": "view-in-github",
        "colab_type": "text"
      },
      "source": [
        "<a href=\"https://colab.research.google.com/github/Yewon9/Emotion_Recognition/blob/main/STT_Conversion.ipynb\" target=\"_parent\"><img src=\"https://colab.research.google.com/assets/colab-badge.svg\" alt=\"Open In Colab\"/></a>"
      ]
    },
    {
      "cell_type": "markdown",
      "source": [
        "# IMPORT"
      ],
      "metadata": {
        "id": "n2QqwyNWTLie"
      }
    },
    {
      "cell_type": "code",
      "source": [
        "!pip install SpeechRecognition"
      ],
      "metadata": {
        "id": "QHRtkPu4TPRF"
      },
      "execution_count": null,
      "outputs": []
    },
    {
      "cell_type": "code",
      "execution_count": null,
      "metadata": {
        "id": "hDy7MhJETGg2"
      },
      "outputs": [],
      "source": [
        "import speech_recognition as sr\n",
        "import pandas as pd"
      ]
    },
    {
      "cell_type": "markdown",
      "source": [
        "# STT"
      ],
      "metadata": {
        "id": "rfmb63-3TR7p"
      }
    },
    {
      "cell_type": "code",
      "source": [
        "recognizer = sr.Recognizer()"
      ],
      "metadata": {
        "id": "iTKVXoZdTSlp"
      },
      "execution_count": null,
      "outputs": []
    },
    {
      "cell_type": "code",
      "source": [
        "def speech_to_text(file_path):\n",
        "  try:\n",
        "    with sr.AudioFile(file_path) as source:\n",
        "      audio = recognizer.record(source)\n",
        "      text = recognizer.recognize_google(audio, language = \"ko-KR\")\n",
        "      return text\n",
        "  except sr.UnknownValueError:\n",
        "    return \"음성을 인식할 수 없음\"\n",
        "  except sr.RequestError as e:\n",
        "    return f\"STT API 오류: {e}\""
      ],
      "metadata": {
        "id": "IrQ5AZ0jTUHo"
      },
      "execution_count": null,
      "outputs": []
    },
    {
      "cell_type": "code",
      "source": [
        "df['Text'] = df['Path'].apply(speech_to_text)\n",
        "print(df[['Path', 'STT 변환 결과']])"
      ],
      "metadata": {
        "id": "P1jkFAnsTVUY"
      },
      "execution_count": null,
      "outputs": []
    },
    {
      "cell_type": "code",
      "source": [
        "df.to_csv('/content/drive/MyDrive/project/STT_converted_audio.csv', index=False)"
      ],
      "metadata": {
        "id": "TPgl_sDNTW6t"
      },
      "execution_count": null,
      "outputs": []
    }
  ]
}